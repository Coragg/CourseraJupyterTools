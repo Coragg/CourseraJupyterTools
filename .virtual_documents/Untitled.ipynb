




















a = 5
b = 3
c = 2

# Multiplication
multiplication = a * b

# Addition
addition = a + b + c

print(f"The result of the multiplication is: {multiplication}")
print(f"The result of the addition is: {addition}")


# Convert minutes to hours
minutes = 150
hours = minutes / 60

print(f"{minutes} minutes is equivalent to {hours:.2f} hours.")





# List of objectives
objectives = [
    "Understand the fundamentals of data science.",
    "Learn to use key tools and libraries.",
    "Develop skills in data analysis.",
    "Implement machine learning models.",
    "Share knowledge through clear documentation."
]

print("Objectives:")
for i, objective in enumerate(objectives, 1):
    print(f"{i}. {objective}")






