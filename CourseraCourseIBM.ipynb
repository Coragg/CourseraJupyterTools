{
 "cells": [
  {
   "cell_type": "markdown",
   "id": "1f02f3dd-d826-4273-92fc-0c9e8dc52143",
   "metadata": {},
   "source": [
    "# Course of Data Science \n",
    "\n",
    "__By:__ Victor Camero"
   ]
  },
  {
   "cell_type": "markdown",
   "id": "52875d0f-7058-4110-bb64-6974219a2d93",
   "metadata": {},
   "source": [
    "# Introduction to Data Science\n",
    "\n",
    "Data science is an interdisciplinary field that combines statistics, mathematics, programming, and domain-specific knowledge to extract valuable insights from data. In this notebook, we will explore some fundamental concepts related to data science."
   ]
  },
  {
   "cell_type": "markdown",
   "id": "e31f5907-44b1-4416-8891-c98352180b9c",
   "metadata": {},
   "source": [
    "## Common Programming Languages in Data Science\n",
    "\n",
    "1. **Python**: Widely used due to its simplicity and a vast array of specialized libraries.\n",
    "2. **R**: Popular for statistical analysis and data visualization.\n",
    "3. **SQL**: Essential for database manipulation and querying.\n",
    "4. **Julia**: Known for its performance in numerical computing.\n",
    "5. **Scala**: Used in big data alongside Apache Spark.\n",
    "6. **Java**: Utilized in enterprise applications and distributed systems.\n"
   ]
  },
  {
   "cell_type": "markdown",
   "id": "7788b108-bf1f-4bee-8bb4-3c9ab578cb19",
   "metadata": {},
   "source": [
    "## Popular Libraries in Data Science\n",
    "\n",
    "- **NumPy**: For efficient numerical computations.\n",
    "- **Pandas**: For data manipulation and analysis of tabular data.\n",
    "- **Matplotlib**: For data visualization.\n",
    "- **Seaborn**: For advanced statistical graphics.\n",
    "- **Scikit-learn**: For machine learning and predictive modeling.\n",
    "- **TensorFlow**: For deep learning and neural networks.\n",
    "- **PyTorch**: A flexible alternative for deep learning.\n",
    "- **Statsmodels**: For statistical analysis and econometric models.\n",
    "  "
   ]
  },
  {
   "cell_type": "markdown",
   "id": "aab5e1b1-a468-4227-b466-9f5b2bd71a88",
   "metadata": {},
   "source": [
    "## Data Science Tools\n",
    "\n",
    "| Tool              | Purpose                                  | Platform       |\n",
    "|--------------------|------------------------------------------|----------------|\n",
    "| Jupyter Notebook   | Interactive analysis and documentation  | Web/Local      |\n",
    "| RStudio            | Development in R                        | Local          |\n",
    "| Apache Spark       | Big data processing                     | Distributed    |\n",
    "| Tableau            | Data visualization                      | Web/Enterprise |\n",
    "| Power BI           | Business data analytics                 | Microsoft      |\n",
    "| Databricks         | Big data and machine learning platform  | Cloud          |\n",
    "| TensorFlow Extended| Machine learning pipeline               | Google Cloud   |"
   ]
  },
  {
   "cell_type": "markdown",
   "id": "b171dc27-5e85-4565-bfc5-5e651b76a0e4",
   "metadata": {},
   "source": [
    "## Basic Arithmetic Expressions\n",
    "\n",
    "Arithmetic expressions are fundamental in programming and allow us to perform mathematical operations such as addition, subtraction, multiplication, division, and more. Below, we will see practical examples of these operations."
   ]
  },
  {
   "cell_type": "markdown",
   "id": "cfbd0c07-0f4c-43ea-8097-1358a607ec70",
   "metadata": {},
   "source": []
  },
  {
   "cell_type": "code",
   "execution_count": 4,
   "id": "babfb714-5c9f-48fe-8ca9-d7b8f0b5cfa9",
   "metadata": {},
   "outputs": [
    {
     "name": "stdout",
     "output_type": "stream",
     "text": [
      "The result of the multiplication is: 15\n",
      "The result of the addition is: 10\n"
     ]
    }
   ],
   "source": [
    "a = 5\n",
    "b = 3\n",
    "c = 2\n",
    "\n",
    "# Multiplication\n",
    "multiplication = a * b\n",
    "\n",
    "# Addition\n",
    "addition = a + b + c\n",
    "\n",
    "print(f\"The result of the multiplication is: {multiplication}\")\n",
    "print(f\"The result of the addition is: {addition}\")"
   ]
  },
  {
   "cell_type": "code",
   "execution_count": 5,
   "id": "da1c0ad5-7cf3-4807-b310-d8a02dcd9582",
   "metadata": {},
   "outputs": [
    {
     "name": "stdout",
     "output_type": "stream",
     "text": [
      "150 minutes is equivalent to 2.50 hours.\n"
     ]
    }
   ],
   "source": [
    "# Convert minutes to hours\n",
    "minutes = 150\n",
    "hours = minutes / 60\n",
    "\n",
    "print(f\"{minutes} minutes is equivalent to {hours:.2f} hours.\")"
   ]
  },
  {
   "cell_type": "code",
   "execution_count": null,
   "id": "548268d7-8862-4c62-9b8a-eef9a97b69b4",
   "metadata": {},
   "outputs": [],
   "source": []
  },
  {
   "cell_type": "code",
   "execution_count": 6,
   "id": "c0827399-5c3a-4fc8-95a4-6685c16633c7",
   "metadata": {},
   "outputs": [
    {
     "name": "stdout",
     "output_type": "stream",
     "text": [
      "Objectives:\n",
      "1. Understand the fundamentals of data science.\n",
      "2. Learn to use key tools and libraries.\n",
      "3. Develop skills in data analysis.\n",
      "4. Implement machine learning models.\n",
      "5. Share knowledge through clear documentation.\n"
     ]
    }
   ],
   "source": [
    "# List of objectives\n",
    "objectives = [\n",
    "    \"Understand the fundamentals of data science.\",\n",
    "    \"Learn to use key tools and libraries.\",\n",
    "    \"Develop skills in data analysis.\",\n",
    "    \"Implement machine learning models.\",\n",
    "    \"Share knowledge through clear documentation.\"\n",
    "]\n",
    "\n",
    "print(\"Objectives:\")\n",
    "for i, objective in enumerate(objectives, 1):\n",
    "    print(f\"{i}. {objective}\")"
   ]
  },
  {
   "cell_type": "markdown",
   "id": "c256fa8e-1e38-4d0d-a9b5-65f682754972",
   "metadata": {},
   "source": [
    "## Author\n",
    "\n",
    "This notebook was created by **Victor Camero** as part of the introduction to data science course."
   ]
  },
  {
   "cell_type": "code",
   "execution_count": null,
   "id": "19f81bd1-9eb6-4826-8d60-f3b9dc8ca29f",
   "metadata": {},
   "outputs": [],
   "source": []
  },
  {
   "cell_type": "code",
   "execution_count": null,
   "id": "60689282-4051-4e9b-a67a-023aec1b87d5",
   "metadata": {},
   "outputs": [],
   "source": []
  },
  {
   "cell_type": "code",
   "execution_count": null,
   "id": "e1067c69-64c4-4401-a67f-2176ddcc294b",
   "metadata": {},
   "outputs": [],
   "source": []
  },
  {
   "cell_type": "code",
   "execution_count": null,
   "id": "ceaf3d22-35f8-4dcd-89d3-e161ba9306a8",
   "metadata": {},
   "outputs": [],
   "source": []
  },
  {
   "cell_type": "code",
   "execution_count": null,
   "id": "caaeeb90-b750-4a0e-a0e6-203853e97ef2",
   "metadata": {},
   "outputs": [],
   "source": []
  },
  {
   "cell_type": "code",
   "execution_count": null,
   "id": "072bca42-2c01-4aae-a285-f0d8bb9fc545",
   "metadata": {},
   "outputs": [],
   "source": []
  },
  {
   "cell_type": "code",
   "execution_count": null,
   "id": "d5ecb6c3-2542-4c74-a8a1-292fea93e1d1",
   "metadata": {},
   "outputs": [],
   "source": []
  },
  {
   "cell_type": "code",
   "execution_count": null,
   "id": "974580ba-34e1-493a-935f-7f92fda5d741",
   "metadata": {},
   "outputs": [],
   "source": []
  },
  {
   "cell_type": "code",
   "execution_count": null,
   "id": "830edd81-1823-4ab9-91e3-c848ffa9f0ec",
   "metadata": {},
   "outputs": [],
   "source": []
  }
 ],
 "metadata": {
  "kernelspec": {
   "display_name": "Python 3 (ipykernel)",
   "language": "python",
   "name": "python3"
  },
  "language_info": {
   "codemirror_mode": {
    "name": "ipython",
    "version": 3
   },
   "file_extension": ".py",
   "mimetype": "text/x-python",
   "name": "python",
   "nbconvert_exporter": "python",
   "pygments_lexer": "ipython3",
   "version": "3.13.2"
  }
 },
 "nbformat": 4,
 "nbformat_minor": 5
}
